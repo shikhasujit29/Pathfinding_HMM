<!DOCTYPE html>
<html>
<head>
    
    <meta http-equiv="content-type" content="text/html; charset=UTF-8" />
    
        <script>
            L_NO_TOUCH = false;
            L_DISABLE_3D = false;
        </script>
    
    <style>html, body {width: 100%;height: 100%;margin: 0;padding: 0;}</style>
    <style>#map {position:absolute;top:0;bottom:0;right:0;left:0;}</style>
    <script src="https://cdn.jsdelivr.net/npm/leaflet@1.9.3/dist/leaflet.js"></script>
    <script src="https://code.jquery.com/jquery-3.7.1.min.js"></script>
    <script src="https://cdn.jsdelivr.net/npm/bootstrap@5.2.2/dist/js/bootstrap.bundle.min.js"></script>
    <script src="https://cdnjs.cloudflare.com/ajax/libs/Leaflet.awesome-markers/2.0.2/leaflet.awesome-markers.js"></script>
    <link rel="stylesheet" href="https://cdn.jsdelivr.net/npm/leaflet@1.9.3/dist/leaflet.css"/>
    <link rel="stylesheet" href="https://cdn.jsdelivr.net/npm/bootstrap@5.2.2/dist/css/bootstrap.min.css"/>
    <link rel="stylesheet" href="https://netdna.bootstrapcdn.com/bootstrap/3.0.0/css/bootstrap.min.css"/>
    <link rel="stylesheet" href="https://cdn.jsdelivr.net/npm/@fortawesome/fontawesome-free@6.2.0/css/all.min.css"/>
    <link rel="stylesheet" href="https://cdnjs.cloudflare.com/ajax/libs/Leaflet.awesome-markers/2.0.2/leaflet.awesome-markers.css"/>
    <link rel="stylesheet" href="https://cdn.jsdelivr.net/gh/python-visualization/folium/folium/templates/leaflet.awesome.rotate.min.css"/>
    
            <meta name="viewport" content="width=device-width,
                initial-scale=1.0, maximum-scale=1.0, user-scalable=no" />
            <style>
                #map_bbc9dbddb9823e60c247ac7643ce9fb6 {
                    position: relative;
                    width: 100.0%;
                    height: 100.0%;
                    left: 0.0%;
                    top: 0.0%;
                }
                .leaflet-container { font-size: 1rem; }
            </style>
        
</head>
<body>
    
    
            <div class="folium-map" id="map_bbc9dbddb9823e60c247ac7643ce9fb6" ></div>
        
</body>
<script>
    
    
            var map_bbc9dbddb9823e60c247ac7643ce9fb6 = L.map(
                "map_bbc9dbddb9823e60c247ac7643ce9fb6",
                {
                    center: [51.3815, -2.3587],
                    crs: L.CRS.EPSG3857,
                    zoom: 14,
                    zoomControl: true,
                    preferCanvas: false,
                }
            );

            

        
    
            var tile_layer_8a9d4d0ff12ae3cf966f171594fe8e22 = L.tileLayer(
                "https://tile.openstreetmap.org/{z}/{x}/{y}.png",
                {"attribution": "\u0026copy; \u003ca href=\"https://www.openstreetmap.org/copyright\"\u003eOpenStreetMap\u003c/a\u003e contributors", "detectRetina": false, "maxNativeZoom": 19, "maxZoom": 19, "minZoom": 0, "noWrap": false, "opacity": 1, "subdomains": "abc", "tms": false}
            );
        
    
            tile_layer_8a9d4d0ff12ae3cf966f171594fe8e22.addTo(map_bbc9dbddb9823e60c247ac7643ce9fb6);
        
    
            var poly_line_de8ff8d0350a655405ec7e1a5382a1ab = L.polyline(
                [[51.3815, -2.3587], [51.382, -2.357], [51.383, -2.355], [51.384, -2.35], [51.385, -2.345], [51.386, -2.34]],
                {"bubblingMouseEvents": true, "color": "blue", "dashArray": null, "dashOffset": null, "fill": false, "fillColor": "blue", "fillOpacity": 0.2, "fillRule": "evenodd", "lineCap": "round", "lineJoin": "round", "noClip": false, "opacity": 1, "smoothFactor": 1.0, "stroke": true, "weight": 2.5}
            ).addTo(map_bbc9dbddb9823e60c247ac7643ce9fb6);
        
    
            var marker_9a5b528d862b2e252edb9c1f36b0ad9b = L.marker(
                [51.3815, -2.3587],
                {}
            ).addTo(map_bbc9dbddb9823e60c247ac7643ce9fb6);
        
    
            var icon_a5dea558f8888cc21815977a0e7459bd = L.AwesomeMarkers.icon(
                {"extraClasses": "fa-rotate-0", "icon": "info-sign", "iconColor": "white", "markerColor": "green", "prefix": "glyphicon"}
            );
            marker_9a5b528d862b2e252edb9c1f36b0ad9b.setIcon(icon_a5dea558f8888cc21815977a0e7459bd);
        
    
        var popup_9c5a7778e5a44884b162631a90a84af7 = L.popup({"maxWidth": "100%"});

        
            
                var html_47787d2d23a623eb6be7e3465c905cad = $(`<div id="html_47787d2d23a623eb6be7e3465c905cad" style="width: 100.0%; height: 100.0%;">Start</div>`)[0];
                popup_9c5a7778e5a44884b162631a90a84af7.setContent(html_47787d2d23a623eb6be7e3465c905cad);
            
        

        marker_9a5b528d862b2e252edb9c1f36b0ad9b.bindPopup(popup_9c5a7778e5a44884b162631a90a84af7)
        ;

        
    
    
            var marker_2000fa4f7370272cea6fc1a3bcf864cd = L.marker(
                [51.386, -2.34],
                {}
            ).addTo(map_bbc9dbddb9823e60c247ac7643ce9fb6);
        
    
            var icon_56a63c8660c844846426e774548c1620 = L.AwesomeMarkers.icon(
                {"extraClasses": "fa-rotate-0", "icon": "info-sign", "iconColor": "white", "markerColor": "red", "prefix": "glyphicon"}
            );
            marker_2000fa4f7370272cea6fc1a3bcf864cd.setIcon(icon_56a63c8660c844846426e774548c1620);
        
    
        var popup_4b08bc2397e2b971e9d98001d20bcf73 = L.popup({"maxWidth": "100%"});

        
            
                var html_e4385a187f0b9f9f61f3d1aecc849afa = $(`<div id="html_e4385a187f0b9f9f61f3d1aecc849afa" style="width: 100.0%; height: 100.0%;">End</div>`)[0];
                popup_4b08bc2397e2b971e9d98001d20bcf73.setContent(html_e4385a187f0b9f9f61f3d1aecc849afa);
            
        

        marker_2000fa4f7370272cea6fc1a3bcf864cd.bindPopup(popup_4b08bc2397e2b971e9d98001d20bcf73)
        ;

        
    
</script>
</html>